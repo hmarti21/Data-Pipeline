{
 "cells": [
  {
   "cell_type": "code",
   "execution_count": 2,
   "metadata": {},
   "outputs": [],
   "source": [
    "import numpy as np\n",
    "from astropy import table"
   ]
  },
  {
   "cell_type": "code",
   "execution_count": 8,
   "metadata": {},
   "outputs": [],
   "source": [
    "def read_Data(fname1,col_dict,cuts,col_dict2=None,fname2=None,key=None,key2=None,cuts2=None):\n",
    "    dat=table.Table()\n",
    "    for i,v in col_dict.items():\n",
    "        if(key!=None && v!=None):\n",
    "            dat[i]=fname1[key][v]\n",
    "        else if(key==None && v!=None):\n",
    "            dat[i]=fname1[v]\n",
    "    cuts=open(cuts)\n",
    "    if (fname2==None):\n",
    "        for line in cuts:\n",
    "            dat=dat[eval(line)]\n",
    "        return dat\n",
    "    else:\n",
    "        dat2=table.Table()\n",
    "        for i,v in col_dict2.items():\n",
    "            if (key2!=None && v!=None):\n",
    "                dat[i]=fname2[key][v]\n",
    "            else if (key2==None && v!=None):\n",
    "                dat[i]=fname2[v]\n",
    "        cuts2=open(cuts2)\n",
    "        for line in cuts2:\n",
    "            dat2=dat2[eval(line)]\n",
    "        return dat,dat2"
   ]
  },
  {
   "cell_type": "code",
   "execution_count": 1,
   "metadata": {},
   "outputs": [],
   "source": [
    "def noPadding(table, primary_key):\n",
    "    return table[table[primary_key]!=0]"
   ]
  },
  {
   "cell_type": "code",
   "execution_count": 9,
   "metadata": {},
   "outputs": [],
   "source": [
    "def projShapeCal(table):\n",
    "    ax=table['ax']\n",
    "    ay=table['ay']\n",
    "    q=table['q']\n",
    "    #Calculate Phi\n",
    "    phi=np.arctan2(ay,ax)\n",
    "    #Calculate Ellipticities\n",
    "    e1=np.divide(1-star_q,1+star_q)*np.cos(2*phi)\n",
    "    e2=np.divide(1-star_q,1+star_q)*np.sin(2*phi)\n",
    "    table['e1']=e1\n",
    "    table['e2']=e2\n",
    "    return table"
   ]
  },
  {
   "cell_type": "code",
   "execution_count": 10,
   "metadata": {},
   "outputs": [],
   "source": [
    "def defCatalogs(table):\n",
    "    return treecorr.Catalog(x=table['x'],y=table['y'],z=table['z'],g1=table['e1'],g2=table['e2'])"
   ]
  },
  {
   "cell_type": "code",
   "execution_count": 11,
   "metadata": {},
   "outputs": [],
   "source": [
    "def NG(table,rand_pcounts,sightBins,nbins,min_sep,max_sep,rpar_step):\n",
    "    table=noPadding(table,'ax')\n",
    "    table=projShapeCal(table)\n",
    "    catG=defCatalogs(table)\n",
    "    NGCor=list()\n",
    "    for i in np.arange(sightBins):\n",
    "        NGCor.append(treecorr.NGCorrelation(nbins=nbins,min_sep=min_sep,max_sep=max_sep,metric=\"Rperp\",min_rpar=i*rpar_step,max_rpar=(i+1)*rpar_step))\n",
    "        NGCor[i].process(catG,catG)\n",
    "    NG_ksi=np.zeros((sightBins,nbins))\n",
    "    for i in np.arange(nbins):\n",
    "        NG_ksi[i]=np.div0(NGCor[i].npairs,rand_pcounts[i])\n",
    "    NG_w=np.sum(NG_ksi,axis=0)\n",
    "    return NG_w"
   ]
  },
  {
   "cell_type": "code",
   "execution_count": 12,
   "metadata": {},
   "outputs": [],
   "source": [
    "def NN(table,rand_cat,sightBins,nbins,min_sep,max_sep,rpar_step):\n",
    "    catN=defCatalogs(table)\n",
    "    NNCor=list()\n",
    "    NRCor=list()\n",
    "    RRCor=list()\n",
    "    for i in np.arange(sightBins):\n",
    "        NNCor[i].append(treecorr.NNCorrelation(nbins=nbins,min_sep=min_sep,max_sep=max_sep,metric=\"Rperp\",min_rpar=i*rpar_step,max_rpar=(i+1)*rpar_step))\n",
    "        NRCor[i].append(treecorr.NNCorrelation(nbins=nbins,min_sep=min_sep,max_sep=max_sep,metric=\"Rperp\",min_rpar=i*rpar_step,max_rpar=(i+1)*rpar_step))\n",
    "        RRCor[i].append(treecorr.NNCorrelation(nbins=nbins,min_sep=min_sep,max_sep=max_sep,metric=\"Rperp\",min_rpar=i*rpar_step,max_rpar=(i+1)*rpar_step))\n",
    "        NNCor[i].process(catN)\n",
    "        NRCor[i].process(catN,rand_cat)\n",
    "        RRCor[i].process(rand_cat)\n",
    "    xi=np.zeros((nbins,sightBins))\n",
    "    varxi=np.zeros((nbins,sightBins))\n",
    "    for i in np.arange(sightBins):\n",
    "        xi[:,i],varxi[:,i]=NNCor[i].calculateXi(RRCor[i],NRCor[i])\n",
    "    xi_tot=np.sum(xi,axis=1)\n",
    "    varxi_tot=np.sum(varxi,axis=1)\n",
    "    return xi_tot,varxi_tot"
   ]
  },
  {
   "cell_type": "code",
   "execution_count": null,
   "metadata": {},
   "outputs": [],
   "source": [
    "def RR(table,scale,min_box,max_box,sightBins,nbins,min_sep,max_sep,rpar_step,cat_out=False):\n",
    "    rand=np.random.uniform(min_box,max_box,size=len(table['x']*scale*3).reshape(3,len(table['x']))\n",
    "    table['x']=rand[0]\n",
    "    table['y']=rand[1]\n",
    "    table['z']=rand[2]\n",
    "    catR=defCatalogs(table)\n",
    "    if cat_out==True:\n",
    "        return catR\n",
    "    RRCor=list()\n",
    "    rand_pcounts=np.zeros((sightBins,nbins))\n",
    "    for i in np.arange(sightBins):\n",
    "        RRCor.append(treecorr.NNCorrelation(nbins=nbins,min_sep=min_sep,max_sep=max_sep,metric=\"Rperp\",min_rpar=i*rpar_step,max_rpar=(i+1)*rpar_step))\n",
    "        RRCor[i].process(catR)\n",
    "        rand_pcounts[i]=RRCor[i].npairs\n",
    "    return rand_pcounts"
   ]
  }
 ],
 "metadata": {
  "kernelspec": {
   "display_name": "Python 3",
   "language": "python",
   "name": "debug180313"
  },
  "language_info": {
   "codemirror_mode": {
    "name": "ipython",
    "version": 3
   },
   "file_extension": ".py",
   "mimetype": "text/x-python",
   "name": "python",
   "nbconvert_exporter": "python",
   "pygments_lexer": "ipython3",
   "version": "3.6.1"
  }
 },
 "nbformat": 4,
 "nbformat_minor": 2
}
