{
 "cells": [
  {
   "cell_type": "code",
   "execution_count": 1,
   "metadata": {},
   "outputs": [],
   "source": [
    "import numpy as np\n",
    "from scipy.optimize import minimize\n",
    "from matplotlib import pyplot as plt"
   ]
  },
  {
   "cell_type": "code",
   "execution_count": 2,
   "metadata": {},
   "outputs": [],
   "source": [
    "#loss=data-theory, define covariance function, chi^2=loss@cov^-1@loss (@ is shortcut for dot product), cov=NxN mtx, N=# of points, for now, use identity mtx, fit in range between 2 Mpc-8 Mpc scipy.minimize, fix pk, vary bg, calc pk only once bc slow, read about chi^2 fitting \n",
    "#meeting Friday, plan to finish pipeline, get chi^2 set up, 1pm"
   ]
  },
  {
   "cell_type": "code",
   "execution_count": null,
   "metadata": {},
   "outputs": [],
   "source": []
  },
  {
   "cell_type": "code",
   "execution_count": 3,
   "metadata": {},
   "outputs": [],
   "source": [
    "#requires mcfit, pip install mcfit\n",
    "# see https://arxiv.org/pdf/0911.4973.pdf... eq. 47-50\n",
    "# for IA beta, see https://arxiv.org/pdf/1510.06752.pdf\n",
    "import mcfit\n",
    "from mcfit import P2xi\n",
    "from scipy.interpolate import interp1d\n",
    "from scipy.special import eval_legendre as legendre\n",
    "from scipy import integrate\n",
    "import numpy as np\n",
    "\n",
    "class Projected_Corr_RSD():\n",
    "    def __init__(self,rp=None,pi=None,pi_max=100,l=[0,2,4],k=None):\n",
    "        self.rp=rp\n",
    "        self.pi=pi\n",
    "        if rp is None:\n",
    "            self.rp=np.logspace(-1,np.log10(200),100)\n",
    "        if pi is None:\n",
    "            self.pi=np.logspace(-3,np.log10(pi_max),250)\n",
    "#            self.pi=np.append(0,self.pi)\n",
    "        self.dpi=np.gradient(self.pi)\n",
    "        self.piG,self.rpG=np.meshgrid(self.pi,self.rp)\n",
    "        self.rG=np.sqrt(self.rpG**2+self.piG**2)\n",
    "        self.muG=self.piG/self.rG\n",
    "        self.L={}\n",
    "        self.j={}\n",
    "        for i in l:\n",
    "            self.L[i]=legendre(i,self.muG)\n",
    "            self.j[i]=P2xi(k,l=i)\n",
    "        \n",
    "    def alpha(self,l,beta1,beta2):\n",
    "        if l==0:\n",
    "            return 1+1./3.*(beta1+beta2)+1./5*(beta1*beta2)\n",
    "        elif l==2:\n",
    "            return 2./3.*(beta1+beta2)+4./7.*(beta1*beta2)\n",
    "        elif l==4:\n",
    "            return 8./35.*(beta1*beta2)\n",
    "#wgm to wg+\n",
    "    def w_to_DS(self,rp=[],w=[]):\n",
    "        DS0=2*w[0]*rp[0]**2\n",
    "        return 2.*integrate.cumtrapz(w*rp,x=rp,initial=0)/rp**2-w+DS0/rp**2\n",
    "\n",
    "    def get_xi(self,pk=[],l=[0,2,4]):\n",
    "        xi={}\n",
    "        for i in l:\n",
    "            ri, xi_i = self.j[i](pk)\n",
    "            xi_intp=interp1d(ri,xi_i,bounds_error=False,fill_value=0)\n",
    "            xi[i]=(xi_intp(self.rG)*self.L[i])@self.dpi\n",
    "            xi[i]*=2#one sided pi\n",
    "        return xi\n",
    "\n",
    "    def wgg_calc(self,f=0,bg=0,bg2=None,pk=[],xi=None,l=[0,2,4]):\n",
    "        bg1=bg\n",
    "        if bg2 is None:\n",
    "            bg2=bg\n",
    "        beta1=f/bg1\n",
    "        beta2=f/bg2\n",
    "        if xi is None:\n",
    "            xi=self.get_xi(pk=pk,l=l)\n",
    "        W=np.zeros_like(xi[0])\n",
    "        for i in l:\n",
    "            W+=(xi[i].T*self.alpha(i,beta1,beta2)*bg1*bg2).T\n",
    "        return W\n",
    "\n",
    "    #do_DS calls w_to_DS to convert wgm to wg+, set beta2=-1 for wg+\n",
    "    def wgm_calc(self,f=0,bg=0,beta2=0,pk=[],xi=None,l=[0,2,4],do_DS=False):\n",
    "        beta1=f/bg\n",
    "        if xi is None:\n",
    "            xi=self.get_xi(pk=pk,l=l)\n",
    "        W=np.zeros_like(xi[0])\n",
    "        for i in l:\n",
    "            W+=(xi[i].T*self.alpha(i,beta1,beta2)*bg).T\n",
    "        if do_DS:\n",
    "            W=self.w_to_DS(rp=self.rp,w=W)\n",
    "        return W"
   ]
  },
  {
   "cell_type": "code",
   "execution_count": 4,
   "metadata": {},
   "outputs": [],
   "source": [
    "#import camb\n",
    "#from camb import model, initialpower\n",
    "\n",
    "#import pyccl\n",
    "from classy import Class\n",
    "import numpy as np\n",
    "from scipy.interpolate import interp1d\n",
    "from astropy.cosmology import Planck15 as cosmo\n",
    "from astropy.constants import c,G\n",
    "from astropy import units as u\n",
    "from scipy.integrate import quad as scipy_int1d\n",
    "\n",
    "cosmo_h=cosmo.clone(H0=100)\n",
    "c=c.to(u.km/u.second)\n",
    "\n",
    "cosmo_fid=dict({'h':cosmo.h,'Omb':cosmo.Ob0,'Omd':cosmo.Om0-cosmo.Ob0,'s8':0.817,'Om':cosmo.Om0,\n",
    "                'As':2.12e-09,'mnu':cosmo.m_nu[-1].value,'Omk':cosmo.Ok0,'tau':0.06,'ns':0.965,'w':-1,'wa':0})\n",
    "pk_params={'non_linear':1,'kmax':30,'kmin':3.e-4,'nk':5000}\n",
    "class_accuracy_settings={ #from Vanessa. To avoid class errors due to compiler issues.\n",
    "                          #https://github.com/lesgourg/class_public/issues/193\n",
    "            \"k_min_tau0\":0.002, #you could try change this\n",
    "            \"k_max_tau0_over_l_max\":3., #you can also try 5 here\n",
    "            \"k_step_sub\":0.015,\n",
    "            \"k_step_super\":0.0001,\n",
    "            \"k_step_super_reduction\":0.1,\n",
    "            'k_per_decade_for_pk': 20,\n",
    "#             'k_output_values': 2.0,\n",
    "            'perturb_sampling_stepsize':0.01,\n",
    "            'tol_perturb_integration':1.e-4,\n",
    "            'halofit_k_per_decade': 3000. #you could try change this\n",
    "            }\n",
    "class Power_Spectra():\n",
    "    def __init__(self,cosmo_params=cosmo_fid,pk_params=pk_params,cosmo=cosmo,cosmo_h=None):\n",
    "        self.cosmo_params=cosmo_params\n",
    "        self.pk_params=pk_params\n",
    "        self.cosmo=cosmo\n",
    "\n",
    "        if not cosmo_h:\n",
    "            self.cosmo_h=cosmo.clone(H0=100)\n",
    "        else:\n",
    "            self.cosmo_h=cosmo_h\n",
    "            \n",
    "        if not pk_params is None:\n",
    "            self.kh=np.logspace(np.log10(pk_params['kmin']),np.log10(pk_params['kmax']),\n",
    "            pk_params['nk'])\n",
    "\n",
    "    def Rho_crit(self,cosmo_h=None):\n",
    "        if not cosmo_h:\n",
    "            cosmo_h=self.cosmo_h\n",
    "        G2=G.to(u.Mpc/u.Msun*u.km**2/u.second**2)\n",
    "        rc=3*cosmo_h.H0**2/(8*np.pi*G2)\n",
    "        rc=rc.to(u.Msun/u.pc**2/u.Mpc)# unit of Msun/pc^2/mpc\n",
    "        return rc\n",
    "\n",
    "    def DZ_int(self,z=[0],cosmo=None): #linear growth factor.. full integral.. eq 63 in Lahav and suto\n",
    "        if not cosmo:\n",
    "            cosmo=self.cosmo\n",
    "        def intf(z):\n",
    "            return (1+z)/(cosmo.H(z).value)**3\n",
    "        j=0\n",
    "        Dz=np.zeros_like(z,dtype='float32')\n",
    "        \n",
    "        for i in z:\n",
    "            Dz[j]=cosmo.H(i).value*scipy_int1d(intf,i,np.inf,epsrel=1.e-6,epsabs=1.e-6)[0]\n",
    "            j=j+1\n",
    "        Dz*=(2.5*cosmo.Om0*cosmo.H0.value**2)\n",
    "        return Dz/Dz[0]\n",
    "    \n",
    "    def class_pk(self,z,cosmo_params=None,pk_params=None,return_s8=False):\n",
    "        if  cosmo_params is None:\n",
    "            cosmo_params=self.cosmo_params\n",
    "        if pk_params is None:\n",
    "            pk_params=self.pk_params\n",
    "            \n",
    "        cosmoC=Class()\n",
    "        h=cosmo_params['h']\n",
    "        class_params={'h':h,'omega_b':cosmo_params['Omb']*h**2,\n",
    "                            'omega_cdm':(cosmo_params['Om']-cosmo_params['Omb'])*h**2,\n",
    "                            'A_s':cosmo_params['As'],'n_s':cosmo_params['ns'],\n",
    "                            'output': 'mPk','z_max_pk':100, #max(z)*2, #to avoid class error.\n",
    "                                      #Allegedly a compiler error, whatever that means\n",
    "                            'P_k_max_1/Mpc':pk_params['kmax']*h*1.1,\n",
    "                    }\n",
    "        if pk_params['non_linear']==1:\n",
    "            class_params['non linear']='halofit'\n",
    "\n",
    "        class_params['N_ur']=3.04 #ultra relativistic species... neutrinos\n",
    "        if cosmo_params['mnu']!=0:\n",
    "            class_params['N_ur']-=1 #one massive neutrino\n",
    "            class_params['m_ncdm']=cosmo_params['mnu']\n",
    "        class_params['N_ncdm']=3.04-class_params['N_ur']\n",
    "        if cosmo_params['w']!=-1 or cosmo_params['wa']!=0:\n",
    "            class_params['Omega_fld']=cosmo_params['Oml']\n",
    "            class_params['w0_fld']=cosmo_params['w']\n",
    "            class_params['wa_fld']=cosmo_params['wa']\n",
    "\n",
    "        for ke in class_accuracy_settings.keys():\n",
    "            class_params[ke]=class_accuracy_settings[ke]\n",
    "\n",
    "        cosmoC=Class()\n",
    "        cosmoC.set(class_params)\n",
    "        try:\n",
    "            cosmoC.compute()\n",
    "        except Exception as err:\n",
    "            print(class_params, err)\n",
    "            raise Exception('Class crashed')\n",
    "\n",
    "        k=self.kh*h\n",
    "        pkC=np.array([[cosmoC.pk(ki,zj) for ki in k ]for zj in z])\n",
    "        pkC*=h**3\n",
    "        s8=cosmoC.sigma8()\n",
    "        cosmoC.struct_cleanup()\n",
    "        if return_s8:\n",
    "            return pkC,self.kh,s8\n",
    "        else:\n",
    "            return pkC,self.kh"
   ]
  },
  {
   "cell_type": "code",
   "execution_count": 5,
   "metadata": {},
   "outputs": [],
   "source": [
    "PS=Power_Spectra()\n",
    "pk,k=PS.class_pk(z=np.atleast_1d([0.0625]))\n",
    "#wrong power spectrum, get from Class\n",
    "rp=np.logspace(-1,1,21)[:20]\n",
    "d=Projected_Corr_RSD(rp=rp,pi=np.linspace(0,50,10),k=k)\n",
    "wgg=d.wgg_calc(bg=1,pk=pk)\n",
    "data=np.loadtxt('/global/homes/h/hmarti21/Results/Final_Results/BGG_massbin1/DelGG_85Result.txt')\n",
    "number=len(wgg[0])"
   ]
  },
  {
   "cell_type": "code",
   "execution_count": 15,
   "metadata": {},
   "outputs": [],
   "source": [
    "d=Projected_Corr_RSD(rp=rp,pi=np.linspace(0,50,5),k=k)\n",
    "def fn_to_min(bg,data,rp,pk,k,randomcount):\n",
    "    x=rp>3\n",
    "    x*=rp<5\n",
    "    wgg=d.wgg_calc(bg=bg,pk=pk)\n",
    "    #print(bg)\n",
    "    if bg<0:\n",
    "        return np.inf\n",
    "    return chi_sq(wgg[0][x],data[x],rp[x],randomcount[x])"
   ]
  },
  {
   "cell_type": "code",
   "execution_count": 16,
   "metadata": {},
   "outputs": [],
   "source": [
    "def chi_sq(model,data,rp,randomcount):\n",
    "    loss=data-model\n",
    "    #print(loss)\n",
    "    cov=np.diag(1./randomcount)\n",
    "    cov_inv=np.linalg.inv(cov)\n",
    "    chi_sq=loss@cov_inv@loss\n",
    "    return chi_sq*0.5\n",
    "    "
   ]
  },
  {
   "cell_type": "code",
   "execution_count": 68,
   "metadata": {},
   "outputs": [],
   "source": [
    "randomcount=np.loadtxt('/global/homes/h/hmarti21/Results/Final_Results/BGG_massbin1/DelGG_85normRRCount.txt')\n",
    "randomcountsum=np.sum(randomcount,axis=0)\n",
    "minimum=minimize(fn_to_min,np.array(1),args=(data,rp,pk,k,randomcountsum/100))\n"
   ]
  },
  {
   "cell_type": "code",
   "execution_count": 69,
   "metadata": {},
   "outputs": [
    {
     "data": {
      "text/plain": [
       "array([0.5116551])"
      ]
     },
     "execution_count": 69,
     "metadata": {},
     "output_type": "execute_result"
    }
   ],
   "source": [
    "minimum.x"
   ]
  },
  {
   "cell_type": "code",
   "execution_count": 70,
   "metadata": {},
   "outputs": [
    {
     "data": {
      "text/plain": [
       "array([[26.2922145]])"
      ]
     },
     "execution_count": 70,
     "metadata": {},
     "output_type": "execute_result"
    }
   ],
   "source": [
    "minimum.hess_inv"
   ]
  },
  {
   "cell_type": "code",
   "execution_count": 71,
   "metadata": {},
   "outputs": [
    {
     "data": {
      "text/plain": [
       "dict_values([9.884936224989287e-06, array([7.43167493e-06]), array([[26.2922145]]), 24, 8, 0, True, 'Optimization terminated successfully.', array([0.5116551]), 7])"
      ]
     },
     "execution_count": 71,
     "metadata": {},
     "output_type": "execute_result"
    }
   ],
   "source": [
    "minimum.values()"
   ]
  },
  {
   "cell_type": "code",
   "execution_count": 72,
   "metadata": {},
   "outputs": [
    {
     "data": {
      "text/plain": [
       "True"
      ]
     },
     "execution_count": 72,
     "metadata": {},
     "output_type": "execute_result"
    }
   ],
   "source": [
    "minimum.success"
   ]
  },
  {
   "cell_type": "code",
   "execution_count": null,
   "metadata": {},
   "outputs": [],
   "source": [
    "1./randomcountsum"
   ]
  },
  {
   "cell_type": "code",
   "execution_count": 73,
   "metadata": {},
   "outputs": [
    {
     "data": {
      "text/plain": [
       "<matplotlib.legend.Legend at 0x2aaae841e320>"
      ]
     },
     "execution_count": 73,
     "metadata": {},
     "output_type": "execute_result"
    },
    {
     "data": {
      "image/png": "[encoded data removed]",
      "text/plain": [
       "<Figure size 432x288 with 1 Axes>"
      ]
     },
     "metadata": {},
     "output_type": "display_data"
    }
   ],
   "source": [
    "wgg=d.wgg_calc(bg=minimum.x[0],pk=pk)\n",
    "plt.plot(rp[:20],wgg[0],label='model')\n",
    "plt.errorbar(rp[:20],data,np.sqrt(1./randomcountsum/100),label='new data')\n",
    "plt.vlines(2,1,1000)\n",
    "plt.vlines(5,1,1000)\n",
    "plt.vlines(3,1,1000)\n",
    "plt.yscale('log')\n",
    "plt.xscale('log')\n",
    "plt.legend()"
   ]
  },
  {
   "cell_type": "code",
   "execution_count": 10,
   "metadata": {},
   "outputs": [],
   "source": [
    "GG_bin1=np.loadtxt('/global/homes/h/hmarti21/Results/Final_Results/BGG_massbin1/DelGG_85Result.txt')\n",
    "GG_bin2=np.loadtxt('/global/homes/h/hmarti21/Results/Final_Results/BGG_massbin2/DelGG_85Result.txt')\n",
    "GG_bin3=np.loadtxt('/global/homes/h/hmarti21/Results/Final_Results/BGG_massbin3/DelGG_85Result.txt')\n"
   ]
  },
  {
   "cell_type": "code",
   "execution_count": 11,
   "metadata": {},
   "outputs": [],
   "source": [
    "minimum_bin1=minimize(fn_to_min,np.array(1),args=(GG_bin1,rp,pk,k))\n",
    "minimum_bin2=minimize(fn_to_min,np.array(1),args=(GG_bin2,rp,pk,k))\n",
    "minimum_bin3=minimize(fn_to_min,np.array(1),args=(GG_bin3,rp,pk,k))\n"
   ]
  },
  {
   "cell_type": "code",
   "execution_count": 14,
   "metadata": {},
   "outputs": [
    {
     "name": "stdout",
     "output_type": "stream",
     "text": [
      "[0.50877311] [0.60648136] [1.1241888]\n"
     ]
    }
   ],
   "source": [
    "print(minimum_bin1.x, minimum_bin2.x, minimum_bin3.x)\n"
   ]
  },
  {
   "cell_type": "code",
   "execution_count": 62,
   "metadata": {},
   "outputs": [
    {
     "data": {
      "text/plain": [
       "array([1.53435009e+06, 9.60805775e+05, 6.09043403e+05, 3.84593269e+05,\n",
       "       2.43228074e+05, 1.53526043e+05, 9.71761850e+04, 6.13181410e+04,\n",
       "       3.87140369e+04, 2.44864842e+04, 1.55162480e+04, 9.80203605e+03,\n",
       "       6.20725394e+03, 3.92771661e+03, 2.48647368e+03, 1.57126761e+03,\n",
       "       9.90558558e+02, 6.22317218e+02, 3.90212112e+02, 2.44648449e+02])"
      ]
     },
     "execution_count": 62,
     "metadata": {},
     "output_type": "execute_result"
    }
   ],
   "source": [
    "1./randomcountsum"
   ]
  },
  {
   "cell_type": "code",
   "execution_count": 74,
   "metadata": {},
   "outputs": [],
   "source": [
    "MM_comb=np.loadtxt('/global/homes/h/hmarti21/Results/Final_Results/BMM_1/DelMM_85combineResult.txt')"
   ]
  },
  {
   "cell_type": "code",
   "execution_count": 76,
   "metadata": {},
   "outputs": [
    {
     "data": {
      "text/plain": [
       "<matplotlib.legend.Legend at 0x2aaae85e8080>"
      ]
     },
     "execution_count": 76,
     "metadata": {},
     "output_type": "execute_result"
    },
    {
     "data": {
      "image/png": "[encoded data removed]",
      "text/plain": [
       "<Figure size 432x288 with 1 Axes>"
      ]
     },
     "metadata": {},
     "output_type": "display_data"
    }
   ],
   "source": [
    "plt.plot(rp[:20],MM_comb,label='data')\n",
    "plt.plot(rp[:20],wgg[0],label='model')\n",
    "plt.yscale('log')\n",
    "plt.xscale('log')\n",
    "plt.legend()"
   ]
  },
  {
   "cell_type": "code",
   "execution_count": 78,
   "metadata": {},
   "outputs": [],
   "source": [
    "#Dark Matter only simulation to compare with model - Sukhdeep needs to get access to it"
   ]
  },
  {
   "cell_type": "code",
   "execution_count": null,
   "metadata": {},
   "outputs": [],
   "source": []
  }
 ],
 "metadata": {
  "kernelspec": {
   "display_name": "Python [conda env:hmarti21]",
   "language": "python",
   "name": "conda-env-hmarti21-py"
  },
  "language_info": {
   "codemirror_mode": {
    "name": "ipython",
    "version": 3
   },
   "file_extension": ".py",
   "mimetype": "text/x-python",
   "name": "python",
   "nbconvert_exporter": "python",
   "pygments_lexer": "ipython3",
   "version": "3.6.6"
  }
 },
 "nbformat": 4,
 "nbformat_minor": 2
}
